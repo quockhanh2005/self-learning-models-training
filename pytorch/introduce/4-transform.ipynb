{
 "cells": [
  {
   "cell_type": "markdown",
   "metadata": {},
   "source": [
    "<h1 style=\"font-size: 36px; color: #FFD700\">4 - TRANSFORMS</h1>"
   ]
  },
  {
   "cell_type": "markdown",
   "metadata": {},
   "source": [
    "Transforms để thực hiện một số thao tác với dữ liệu và làm cho dữ liệu phù hợp để đào tạo."
   ]
  },
  {
   "cell_type": "markdown",
   "metadata": {},
   "source": [
    "Tất cả các tập dữ liệu TorchVision đều có hai tham số - transform để sửa đổi các tính năng và target_transform để sửa đổi các nhãn - chấp nhận các lệnh gọi có chứa logic transform. Mô-đun torchvision.transforms cung cấp một số phép chuyển đổi thường dùng ngay khi xuất xưởng."
   ]
  },
  {
   "cell_type": "markdown",
   "metadata": {},
   "source": [
    "Các tính năng FashionMNIST có định dạng PIL Image và các nhãn là số nguyên. Để đào tạo, chúng ta cần các tính năng dưới dạng tensor chuẩn hóa và các nhãn dưới dạng tensor mã hóa one-hot.\n",
    "- one-hot encoding: cách biến một giá trị rời rạc thành một vector nhị phân\n",
    "- Trong đó: tất cả đều là 0 chỉ duy nhất một vị trí là 1 - ứng với giá trị ban đầu"
   ]
  },
  {
   "cell_type": "markdown",
   "metadata": {},
   "source": [
    "Ví dụ:\n",
    "Có 3 nhãn trái cây: Apple -> 0, Banana -> 1, Orange -> 2 \n",
    "\n",
    "One-hot\n",
    "- Apple [1, 0, 0]\n",
    "- Banana [0, 1, 0]\n",
    "- Orange [0, 0, 1]"
   ]
  },
  {
   "cell_type": "code",
   "execution_count": 1,
   "metadata": {},
   "outputs": [],
   "source": [
    "import torch\n",
    "from torchvision import datasets\n",
    "from torchvision.transforms import ToTensor, Lambda"
   ]
  },
  {
   "cell_type": "code",
   "execution_count": 2,
   "metadata": {},
   "outputs": [],
   "source": [
    "ds = datasets.FashionMNIST(\n",
    "    root=\"data\",\n",
    "    train=True,\n",
    "    download=True,\n",
    "    transform=ToTensor(),\n",
    "    target_transform=Lambda(lambda y: torch.zeros(10, dtype=torch.float).scatter_(0, torch.tensor(y), value=1))\n",
    ") # tạo một tensor có 10 ptu, ban đầu đều là 0, tùy thuộc vào nhãn mà index - 1 sẽ mang giá trị 1"
   ]
  },
  {
   "cell_type": "markdown",
   "metadata": {},
   "source": [
    "ToTensor() - chuyển đổi hình ảnh PIL hoặc NumPy ndarraythành FloatTensor. và chia tỷ lệ các giá trị cường độ điểm ảnh của hình ảnh trong phạm vi [0., 1.]"
   ]
  },
  {
   "cell_type": "markdown",
   "metadata": {},
   "source": [
    "Lambda transform - một hàm để biến số nguyên thành tensor mã hóa one-hot. Đầu tiên, nó tạo ra một tenxơ zero có kích thước 10 (số nhãn trong tập dữ liệu của chúng ta) và gọi scatter_ để gán a value=1 trên chỉ mục như được chỉ định bởi nhãn y"
   ]
  }
 ],
 "metadata": {
  "kernelspec": {
   "display_name": ".venv",
   "language": "python",
   "name": "python3"
  },
  "language_info": {
   "codemirror_mode": {
    "name": "ipython",
    "version": 3
   },
   "file_extension": ".py",
   "mimetype": "text/x-python",
   "name": "python",
   "nbconvert_exporter": "python",
   "pygments_lexer": "ipython3",
   "version": "3.12.3"
  }
 },
 "nbformat": 4,
 "nbformat_minor": 2
}
