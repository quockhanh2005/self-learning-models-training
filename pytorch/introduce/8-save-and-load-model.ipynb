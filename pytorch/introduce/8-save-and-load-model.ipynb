{
 "cells": [
  {
   "cell_type": "code",
   "execution_count": 1,
   "metadata": {},
   "outputs": [],
   "source": [
    "import torch\n",
    "import torchvision.models as models"
   ]
  },
  {
   "cell_type": "markdown",
   "metadata": {},
   "source": [
    "Save & Load models"
   ]
  },
  {
   "cell_type": "markdown",
   "metadata": {},
   "source": [
    "Tham số đã học được lưu trữ trong một từ điển trạng thái nội bộ - state_dict. Những tham số này được lưu thông qua torch.save"
   ]
  },
  {
   "cell_type": "code",
   "execution_count": 2,
   "metadata": {},
   "outputs": [
    {
     "name": "stderr",
     "output_type": "stream",
     "text": [
      "Downloading: \"https://download.pytorch.org/models/vgg16-397923af.pth\" to /home/qk/.cache/torch/hub/checkpoints/vgg16-397923af.pth\n",
      "100.0%\n"
     ]
    }
   ],
   "source": [
    "model = models.vgg16(weights='IMAGENET1K_V1')\n",
    "torch.save(model.state_dict(), 'model_weights.pth')"
   ]
  },
  {
   "cell_type": "markdown",
   "metadata": {},
   "source": [
    "model = models.vgg16(weights='IMAGENET1K_V1')\n",
    "- models.vgg16: lấy mô hình VGG16, là kiến trúc CNN dùng trong bài toán nhận dạng hình ảnh\n",
    "- weights=\"IMAGENET1K_V1\": ta đang tải trọng số đc huấn luyện sẵn trên tập ImageNet (1K lớp phân loại) \n",
    "\n",
    "=> Đây là cách TRANSFER LEARNING hoạt động - không cần huấn luyện lại từ đầu\n",
    "    - Transfer learning: kỹ thuật tái sử dụng mô hình đã được huấn luyện trước đó trên một bài toán tương tự, sau đó fine-tune hoặc tái sử dụng một phần nào đó của mô hình cho bài toán mới."
   ]
  },
  {
   "cell_type": "markdown",
   "metadata": {},
   "source": [
    "torch.save(model.state_dict(), 'model_weights.pth')\n",
    "- model.state_dict(): trích xuất tất cả weight và bias của mô hình dưới dạng OrderedDict\n",
    "- torch.save(..., 'model_weights.pth'): lưu lại trọng số  vào file chỉ định trên ổ đĩa.\n",
    "    \n",
    "    => Không lưu toàn bộ mô hình, chỉ lưu trọng số - thường dùng khi tái tạo lại kiến trúc mô hình và load lại trọng số"
   ]
  },
  {
   "cell_type": "markdown",
   "metadata": {},
   "source": [
    "Để load, ta cần một phiên bản của cùng một mô hình, sau đó load bằng method load_state_dict()"
   ]
  },
  {
   "cell_type": "markdown",
   "metadata": {},
   "source": [
    "Pickling/Unpickling \n",
    "- Pickling: quá trình chuyển đổi python obj sang byte stream để lưu vào file hoặc truyền qua mạng.\n",
    "    - PyTorch dùng pickle để lưu mô hình hoặc state_dict\n",
    "- Unpickling: quá trình đọc lại(giải mã) file nhị phân đó và khôi phục lại Python obj ban đầu "
   ]
  },
  {
   "cell_type": "code",
   "execution_count": null,
   "metadata": {},
   "outputs": [],
   "source": [
    "# ví dụ minh họa\n",
    "# torch.save(obj, 'file.pth')     # Pickling\n",
    "# obj = torch.load('file.pth')    # Unpickling"
   ]
  },
  {
   "cell_type": "markdown",
   "metadata": {},
   "source": [
    "weights_only=True để giới hạn các hàm được thực hiện trong quá trình unpickling - chỉ thực hiện những tác vụ cần thiết để tải trọng số. \n",
    "- Không có weights_only=True:\n",
    "    - Unpickle toàn bộ nội dung file:\n",
    "        - weight(state_dict)\n",
    "        - Các hàm hoặc class đã được định nghĩa khi lưu.\n",
    "        - có thể có các obj tùy chỉnh mà ta không cần\n",
    "    => không an toàn nêus file chưa mã độc. vì unpickling có thể chạy code ngầm\n",
    "- weights_only=True:\n",
    "    - giải nén các tensor chứa trọng số mô hình (weights, bias)\n",
    "    - Bỏ qua mọi đối tượng phức tạp như:\n",
    "        - class tự định nghĩa\n",
    "        - hàm tùy chỉnh\n",
    "        - mô hình full (với các hàm forward)\n",
    "    - Không tạo lại toàn bộ obj đã được pickle, chỉ đọc phần dữ liệu cần thiết để tạo state_dict\n",
    "\n"
   ]
  },
  {
   "cell_type": "markdown",
   "metadata": {},
   "source": [
    "Đây là phương pháp hay nhất khi tải trọng số:\n",
    "- Không xử lý phần không cần thiết\n",
    "- Nhanh hơn, an toàn\n",
    "- Chính xác hơn: phù hợp với các use case như transfer learning khi ta chỉ cần load trọng số vào models mà ta định nghĩa"
   ]
  },
  {
   "cell_type": "code",
   "execution_count": 4,
   "metadata": {},
   "outputs": [
    {
     "data": {
      "text/plain": [
       "VGG(\n",
       "  (features): Sequential(\n",
       "    (0): Conv2d(3, 64, kernel_size=(3, 3), stride=(1, 1), padding=(1, 1))\n",
       "    (1): ReLU(inplace=True)\n",
       "    (2): Conv2d(64, 64, kernel_size=(3, 3), stride=(1, 1), padding=(1, 1))\n",
       "    (3): ReLU(inplace=True)\n",
       "    (4): MaxPool2d(kernel_size=2, stride=2, padding=0, dilation=1, ceil_mode=False)\n",
       "    (5): Conv2d(64, 128, kernel_size=(3, 3), stride=(1, 1), padding=(1, 1))\n",
       "    (6): ReLU(inplace=True)\n",
       "    (7): Conv2d(128, 128, kernel_size=(3, 3), stride=(1, 1), padding=(1, 1))\n",
       "    (8): ReLU(inplace=True)\n",
       "    (9): MaxPool2d(kernel_size=2, stride=2, padding=0, dilation=1, ceil_mode=False)\n",
       "    (10): Conv2d(128, 256, kernel_size=(3, 3), stride=(1, 1), padding=(1, 1))\n",
       "    (11): ReLU(inplace=True)\n",
       "    (12): Conv2d(256, 256, kernel_size=(3, 3), stride=(1, 1), padding=(1, 1))\n",
       "    (13): ReLU(inplace=True)\n",
       "    (14): Conv2d(256, 256, kernel_size=(3, 3), stride=(1, 1), padding=(1, 1))\n",
       "    (15): ReLU(inplace=True)\n",
       "    (16): MaxPool2d(kernel_size=2, stride=2, padding=0, dilation=1, ceil_mode=False)\n",
       "    (17): Conv2d(256, 512, kernel_size=(3, 3), stride=(1, 1), padding=(1, 1))\n",
       "    (18): ReLU(inplace=True)\n",
       "    (19): Conv2d(512, 512, kernel_size=(3, 3), stride=(1, 1), padding=(1, 1))\n",
       "    (20): ReLU(inplace=True)\n",
       "    (21): Conv2d(512, 512, kernel_size=(3, 3), stride=(1, 1), padding=(1, 1))\n",
       "    (22): ReLU(inplace=True)\n",
       "    (23): MaxPool2d(kernel_size=2, stride=2, padding=0, dilation=1, ceil_mode=False)\n",
       "    (24): Conv2d(512, 512, kernel_size=(3, 3), stride=(1, 1), padding=(1, 1))\n",
       "    (25): ReLU(inplace=True)\n",
       "    (26): Conv2d(512, 512, kernel_size=(3, 3), stride=(1, 1), padding=(1, 1))\n",
       "    (27): ReLU(inplace=True)\n",
       "    (28): Conv2d(512, 512, kernel_size=(3, 3), stride=(1, 1), padding=(1, 1))\n",
       "    (29): ReLU(inplace=True)\n",
       "    (30): MaxPool2d(kernel_size=2, stride=2, padding=0, dilation=1, ceil_mode=False)\n",
       "  )\n",
       "  (avgpool): AdaptiveAvgPool2d(output_size=(7, 7))\n",
       "  (classifier): Sequential(\n",
       "    (0): Linear(in_features=25088, out_features=4096, bias=True)\n",
       "    (1): ReLU(inplace=True)\n",
       "    (2): Dropout(p=0.5, inplace=False)\n",
       "    (3): Linear(in_features=4096, out_features=4096, bias=True)\n",
       "    (4): ReLU(inplace=True)\n",
       "    (5): Dropout(p=0.5, inplace=False)\n",
       "    (6): Linear(in_features=4096, out_features=1000, bias=True)\n",
       "  )\n",
       ")"
      ]
     },
     "execution_count": 4,
     "metadata": {},
     "output_type": "execute_result"
    }
   ],
   "source": [
    "model = models.vgg16() # we do not specify ``weights``, i.e. create untrained model\n",
    "model.load_state_dict(torch.load('model_weights.pth', weights_only=True))\n",
    "model.eval()\n",
    "# => Ta chỉ tạo backbone để load weight, bias vào "
   ]
  },
  {
   "cell_type": "markdown",
   "metadata": {},
   "source": [
    "Output là kiến trúc đầy đủ cảu mô hình VGG16 gồm 3 phần chính\n",
    "- features (BACKBONE) => phần trích xuất đặc trưng\n",
    "    - Gồm Conv2d, ReLU, MaxPool2d lặp lại nhiều lần\n",
    "    - Mục tiêu: trích xuất các đặc trưng từ ảnh đầu vào\n",
    "    - Input thường là ảnh RGB (3 kênh), output là tensor nhiều chiều có nhiều kênh\n",
    "- avgpool\n",
    "    - Dùng AdaptiveAvgPool2d để điều chỉnh kích thước đầu ra cố định là (7, 7)\n",
    "    - Chuẩn bị cho việc đưa vào Linear phía sau\n",
    "- classifier (HEAD) => phần phân loại\n",
    "    - Gồm các lớp Linear, ReLU, Dropout\n",
    "    - Biến vector đặc trưng → phân loại 1000 lớp (ImageNet): 25088 (512×7×7) → 4096 → 4096 → 1000"
   ]
  },
  {
   "cell_type": "markdown",
   "metadata": {},
   "source": [
    "Dropout là kỹ thuật regularization trong mạng neural - dùng để giảm hiện tượng overfitting trong quá trình huấn luyện\n",
    "\n",
    "Cách hoạt động:\n",
    "- Trong mỗi lần huấn luyện, Dropout sẽ ngẫu nhiên \"tắt\" một neural trong mạng\n",
    "- Tức là: một số node trong layer sẽ không tham gia tính toán hoặc truyền grad ở lượt đó\n",
    "=> điều này giúp mô hình:\n",
    "- không quá phụ thuộc vào một nhóm neural cụ thể\n",
    "- học được những biểu diễn đa dạng và tổng quát hơn"
   ]
  },
  {
   "cell_type": "markdown",
   "metadata": {},
   "source": [
    "Khi nào sẽ hoạt động: \n",
    "- model.train() -> dropout hoạt động để regularize mô hình\n",
    "- model.eval() -> dropout không hoạt động để mô hình hđ ổn định"
   ]
  },
  {
   "cell_type": "markdown",
   "metadata": {},
   "source": [
    "Ghi chú: chắc chắn gọi phương thức model.eval() trước khi suy luận để đặt các lớp chuẩn hóa dropout và batch sang chế độ đánh giá. Nếu quên gọi:\n",
    "- Mô hình sẽ cập nhật hoặc cộng dồn các giá trị (hành động như được train) \n",
    "- Điều này làm cho kết quả dự đoán bị nhiễu loạn, không ổn định, và sai lệch"
   ]
  },
  {
   "cell_type": "markdown",
   "metadata": {},
   "source": [
    "SAVE & LOAD MODELS"
   ]
  },
  {
   "cell_type": "markdown",
   "metadata": {},
   "source": [
    "Khi save weight, ta cần tạo lớp models trước vì lớp này định nghĩa cái backborn của mạng. Ta có thể truyền model nếu muốn lưu cấu trúc cùng với mô hình (ngược lại truyền model.state_dict())"
   ]
  },
  {
   "cell_type": "code",
   "execution_count": null,
   "metadata": {},
   "outputs": [],
   "source": [
    "torch.save(model, 'model.pth')"
   ]
  },
  {
   "cell_type": "code",
   "execution_count": null,
   "metadata": {},
   "outputs": [],
   "source": [
    "model = torch.load('model.pth', weights_only=False),\n",
    "# weights_only=False vì đây là hành động liên quan đến việc tải mô hình."
   ]
  },
  {
   "cell_type": "markdown",
   "metadata": {},
   "source": [
    "Nên dùng weights_only = False khi:\n",
    "- Lưu toàn bộ mô hình bằng torch.save(model) (pickle full object)\n",
    "- Muốn load nguyên mô hình, không cần định nghĩa lại kiến trúc"
   ]
  },
  {
   "cell_type": "markdown",
   "metadata": {},
   "source": [
    "Ghi chú:\n",
    "\n",
    "Khi dùng torch.save(model, 'model.pth'), PyTorch dùng pickle để lưu toàn bộ model obj: weight, bias, class, func\n",
    "Khi load lại model = torch.load('full_model.pth'), Pytorch dùng pickle để tái tạo lại đúng class mô hình cũ. \n",
    "- nếu định nghĩa lớp không còn tồn tại hoặc dùng máy khác không có code gốc => lỗi"
   ]
  },
  {
   "cell_type": "markdown",
   "metadata": {},
   "source": [
    "Nên khi dùng torch.save(model) thì phải đúng class mô hình gốc khi load. \n",
    "\n",
    "Nếu chỉ lưu/ truyền trọng số (state_dict) thì không cần class mô hình gốc => định nghĩa đúng kiến trúc tương đồng là xong."
   ]
  }
 ],
 "metadata": {
  "kernelspec": {
   "display_name": ".venv",
   "language": "python",
   "name": "python3"
  },
  "language_info": {
   "codemirror_mode": {
    "name": "ipython",
    "version": 3
   },
   "file_extension": ".py",
   "mimetype": "text/x-python",
   "name": "python",
   "nbconvert_exporter": "python",
   "pygments_lexer": "ipython3",
   "version": "3.12.3"
  }
 },
 "nbformat": 4,
 "nbformat_minor": 2
}
