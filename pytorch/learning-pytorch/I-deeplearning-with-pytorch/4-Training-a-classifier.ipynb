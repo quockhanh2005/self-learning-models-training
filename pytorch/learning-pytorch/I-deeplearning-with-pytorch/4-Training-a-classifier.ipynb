{
 "cells": [
  {
   "cell_type": "markdown",
   "metadata": {},
   "source": [
    "<h1 style=\"font-size: 36px; color: #FFD700\">4 - Training a Classifier</h1>"
   ]
  },
  {
   "cell_type": "markdown",
   "metadata": {},
   "source": [
    "Đối với dữ liệu cho việc huấn luyện: Có thể ta sẽ phải xử lý hình ảnh, âm thanh, văn bản, video, ta có thể dùng các package tiêu chuẩn để tải dữ liệu vào một mảng numpy. Sau đó ta có thể chuyển thành tensor với `torch.*Tensor`\n",
    "- Image: Pillow, OpenCV\n",
    "- Sound: Scipy, librosa\n",
    "- Text: tải dựa trên Python hoặc raw-Cython hoặc NTLK và SpaCy \n",
    "\n",
    "Đối với Vision, torch có `torchvision`, có trình tải data cho các tập dữ liệu phổ biến như ImageNet, CIFAR10, MNIST, v.v và trình chuyển đổi dữ liệu cho hình ảnh ví dụ như `torchvision.datasets` và `torch.utils.data.DataLoader`"
   ]
  },
  {
   "cell_type": "markdown",
   "metadata": {},
   "source": [
    "Trong phần này ta sẽ sử dụng datasets `CIFAR10`. \n",
    "- Nó bao gồm các lớp 'airplane', 'automobile', 'bird', 'cat', 'deer', 'dog', 'frog', 'horse', 'ship', 'truck'\n",
    "- Các ảnh trong dataset có size 3x32x32\n",
    "    - hình ảnh màu 3 kênh màu\n",
    "    - size 32x32 pixel"
   ]
  },
  {
   "cell_type": "markdown",
   "metadata": {},
   "source": [
    "### `Training \"image classifier\"`"
   ]
  },
  {
   "cell_type": "markdown",
   "metadata": {},
   "source": [
    "Ta sẽ thực hiện theo các bước sau theo thứ tự\n",
    "1. Tải và chuẩn hóa các tập dữ liệu đào tạo và thử nghiệm `CIFAR10` bằng cách sử dụng `torchvision`\n",
    "2. Định nghĩa mạng nơ-ron tích chập `CNN`\n",
    "3. Xác định `loss functions`\n",
    "4. Đào tạo mạng trên dữ liệu đào tạo\n",
    "5. Kiểm tra mạng trên dữ liệu thử nghiệm"
   ]
  },
  {
   "cell_type": "markdown",
   "metadata": {},
   "source": [
    "`1`. `Load and normalize CIFAR10`"
   ]
  },
  {
   "cell_type": "code",
   "execution_count": 2,
   "metadata": {},
   "outputs": [],
   "source": [
    "import torch\n",
    "import torchvision\n",
    "import torchvision.transforms as transforms"
   ]
  },
  {
   "cell_type": "markdown",
   "metadata": {},
   "source": [
    "`Vì sao PILImage lại có phạm vi [0, 1] ?`\n",
    "\n",
    "Cách đưa PILImage có range [0, 1]\n",
    "- Theo mặc định ảnh kỹ thuật số thường lưu trữ giá trị pixal mỗi kênh màu dưới dạng số nguyên 8-bit nên phạm vi mặc định là [0, 255]\n",
    "    - 0: Mức tối thiểu - đen tuyệt đối\n",
    "    - 255: Mức tối đa - sáng nhất\n",
    "- Trong code khi ta load dataset thường có dòng `transform.ToTensor()`, đây là quá trình chuyển từ PILImage thành tensor có nghĩa là tự động chia giá trị pixel cho 255 để đưa chúng về phạm vi [0, 1]\n",
    "\n",
    "Lý do:\n",
    "- Phù hợp với tính toán trong neural network: Các phép toán trong Deep Learning hoạt động tốt hơn với float, giá trị [0, 1] giúp tránh gradient explosion/vanishing\n",
    "    - Các activation function (Sigmoid, Tanh) hoạt động tốt nhất khi đầu vào trong khoảng [0, 1] hoặc [-1, 1]\n",
    "    - Nếu output quá lớn có thể bị gradient explosion/vanishing\n",
    "    - Phù hợp với hàm loss và optimization\n",
    "        - Hầu hết các hàm loss (MSE, Cross-Entropy) và bộ tối ưu (SGD, Adam) được thiết kế để hoạt động tốt với đầu vào được chuẩn hóa\n",
    "        - Nếu giá trị pixel quá lớn, gradient descent có thể dao động mạnh, dẫn đến khó hội tụ.\n",
    "- Normalize: giúp data có phân phối đồng đều giúp mô hình hội tụ nhanh hơn\n"
   ]
  },
  {
   "cell_type": "code",
   "execution_count": 3,
   "metadata": {},
   "outputs": [],
   "source": [
    "# Load hình\n",
    "transform = transforms.Compose(\n",
    "    [transforms.ToTensor(),\n",
    "     transforms.Normalize((0.5, 0.5, 0.5), (0.5, 0.5, 0.5))]\n",
    ")\n",
    "\n",
    "batch_size = 4\n",
    "\n",
    "trainset = torchvision.datasets.CIFAR10(root='./data', train=True,\n",
    "                                        download=True, transform=transform)\n",
    "trainloader = torch.utils.data.DataLoader(trainset, batch_size=batch_size,\n",
    "                                          shuffle=True, num_workers=2)\n",
    "\n",
    "testset = torchvision.datasets.CIFAR10(root='./data', train=False,\n",
    "                                       download=True, transform=transform)\n",
    "testloader = torch.utils.data.DataLoader(testset, batch_size=batch_size,\n",
    "                                         shuffle=False, num_workers=2)\n",
    "\n",
    "classes = ('plane', 'car', 'bird', 'cat',\n",
    "           'deer', 'dog', 'frog', 'horse', 'ship', 'truck')"
   ]
  },
  {
   "cell_type": "markdown",
   "metadata": {},
   "source": [
    "Một số ảnh trong tập traning"
   ]
  },
  {
   "cell_type": "code",
   "execution_count": 8,
   "metadata": {},
   "outputs": [
    {
     "data": {
      "image/png": "[encoded data removed]",
      "text/plain": [
       "<Figure size 640x480 with 1 Axes>"
      ]
     },
     "metadata": {},
     "output_type": "display_data"
    },
    {
     "name": "stdout",
     "output_type": "stream",
     "text": [
      "frog  ship  car   bird \n"
     ]
    }
   ],
   "source": [
    "import matplotlib.pyplot as plt\n",
    "import numpy as np\n",
    "\n",
    "# Hàm show ảnh\n",
    "def imshow(img):\n",
    "    img = img / 2 + 0.5\n",
    "    npimg = img.numpy()\n",
    "    plt.imshow(np.transpose(npimg, (1, 2, 0)))\n",
    "    plt.show()\n",
    "    \n",
    "# Lấy một số ảnh ngẫu nhiên\n",
    "dataiter = iter(trainloader)\n",
    "images, labels = next(dataiter)\n",
    "\n",
    "imshow(torchvision.utils.make_grid(images)) # showw ảnh\n",
    "print(' '.join(f'{classes[labels[j]]:5s}' for j in range(batch_size)))"
   ]
  },
  {
   "cell_type": "markdown",
   "metadata": {},
   "source": [
    "`2`. `Định nghĩa mạng neural tích chập`"
   ]
  },
  {
   "cell_type": "code",
   "execution_count": 12,
   "metadata": {},
   "outputs": [],
   "source": [
    "import torch.nn as nn\n",
    "import torch.nn.functional as F\n",
    "\n",
    "class Net(nn.Module):\n",
    "    def __init__(self):\n",
    "        super().__init__()\n",
    "        self.conv1 = nn.Conv2d(3, 6, 5) # Ở đây sẽ là ảnh 3 kênh RGB\n",
    "        self.pool = nn.MaxPool2d(2, 2)\n",
    "        self.conv2 = nn.Conv2d(6, 16, 5)\n",
    "        self.fc1 = nn.Linear(16 * 5 * 5, 120)\n",
    "        self.fc2 = nn.Linear(120, 84)\n",
    "        self.fc3 = nn.Linear(84, 10)\n",
    "        \n",
    "    def forward(self, x):\n",
    "        x = self.pool(F.relu(self.conv1(x)))\n",
    "        x = self.pool(F.relu(self.conv2(x)))\n",
    "        x = torch.flatten(x, 1) # flatten all dimensions except batch\n",
    "        x = F.relu(self.fc1(x))\n",
    "        x = F.relu(self.fc2(x))\n",
    "        x = self.fc3(x)\n",
    "        return x"
   ]
  },
  {
   "cell_type": "markdown",
   "metadata": {},
   "source": [
    "`Note`\n",
    "- Conv sẽ trích xuất đặt trưng từ input đầu vào\n",
    "- Maxpool sẽ giảm chiều dữ liệu \n",
    "- Linear sẽ nối các feature đã được trích xuất qua các lớp conv/maxpool"
   ]
  },
  {
   "cell_type": "code",
   "execution_count": 11,
   "metadata": {},
   "outputs": [],
   "source": [
    "net = Net()"
   ]
  },
  {
   "cell_type": "markdown",
   "metadata": {},
   "source": [
    "`3`. `Định nghĩa loss_function & optimizer`"
   ]
  },
  {
   "cell_type": "markdown",
   "metadata": {},
   "source": [
    "Cross Entropy Loss & SGD với momentum"
   ]
  },
  {
   "cell_type": "code",
   "execution_count": 14,
   "metadata": {},
   "outputs": [],
   "source": [
    "import torch.optim as optim\n",
    "\n",
    "criterion = nn.CrossEntropyLoss() #Hàm loss \n",
    "optimizer = optim.SGD(net.parameters(), lr=0.001, momentum=0.9) #optimizer"
   ]
  },
  {
   "cell_type": "markdown",
   "metadata": {},
   "source": [
    "`4`. `Traning network`"
   ]
  },
  {
   "cell_type": "code",
   "execution_count": 17,
   "metadata": {},
   "outputs": [
    {
     "name": "stdout",
     "output_type": "stream",
     "text": [
      "[1,  2000] loss: 0.991\n",
      "[1,  4000] loss: 1.015\n",
      "[1,  6000] loss: 1.030\n",
      "[1,  8000] loss: 1.038\n",
      "[1, 10000] loss: 1.010\n",
      "[1, 12000] loss: 1.025\n",
      "[2,  2000] loss: 0.929\n"
     ]
    },
    {
     "ename": "KeyboardInterrupt",
     "evalue": "",
     "output_type": "error",
     "traceback": [
      "\u001b[31m---------------------------------------------------------------------------\u001b[39m",
      "\u001b[31mKeyboardInterrupt\u001b[39m                         Traceback (most recent call last)",
      "\u001b[36mCell\u001b[39m\u001b[36m \u001b[39m\u001b[32mIn[17]\u001b[39m\u001b[32m, line 14\u001b[39m\n\u001b[32m     12\u001b[39m outputs = net(inputs)  \u001b[38;5;66;03m# tính toán kết quả dự đoán từ mô hình\u001b[39;00m\n\u001b[32m     13\u001b[39m loss = criterion(outputs, labels)  \u001b[38;5;66;03m# tính toán độ lỗi (loss) giữa kết quả dự đoán và nhãn thực tế\u001b[39;00m\n\u001b[32m---> \u001b[39m\u001b[32m14\u001b[39m \u001b[43mloss\u001b[49m\u001b[43m.\u001b[49m\u001b[43mbackward\u001b[49m\u001b[43m(\u001b[49m\u001b[43m)\u001b[49m  \u001b[38;5;66;03m# tính toán gradient (đạo hàm) của loss theo các tham số mô hình\u001b[39;00m\n\u001b[32m     15\u001b[39m optimizer.step()  \u001b[38;5;66;03m# cập nhật các tham số mô hình dựa trên gradient tính được\u001b[39;00m\n\u001b[32m     17\u001b[39m \u001b[38;5;66;03m# print statistics (in các thống kê)\u001b[39;00m\n",
      "\u001b[36mFile \u001b[39m\u001b[32m~/Documents/python/python_programming/pytorch/.venv/lib/python3.12/site-packages/torch/_tensor.py:626\u001b[39m, in \u001b[36mTensor.backward\u001b[39m\u001b[34m(self, gradient, retain_graph, create_graph, inputs)\u001b[39m\n\u001b[32m    616\u001b[39m \u001b[38;5;28;01mif\u001b[39;00m has_torch_function_unary(\u001b[38;5;28mself\u001b[39m):\n\u001b[32m    617\u001b[39m     \u001b[38;5;28;01mreturn\u001b[39;00m handle_torch_function(\n\u001b[32m    618\u001b[39m         Tensor.backward,\n\u001b[32m    619\u001b[39m         (\u001b[38;5;28mself\u001b[39m,),\n\u001b[32m   (...)\u001b[39m\u001b[32m    624\u001b[39m         inputs=inputs,\n\u001b[32m    625\u001b[39m     )\n\u001b[32m--> \u001b[39m\u001b[32m626\u001b[39m \u001b[43mtorch\u001b[49m\u001b[43m.\u001b[49m\u001b[43mautograd\u001b[49m\u001b[43m.\u001b[49m\u001b[43mbackward\u001b[49m\u001b[43m(\u001b[49m\n\u001b[32m    627\u001b[39m \u001b[43m    \u001b[49m\u001b[38;5;28;43mself\u001b[39;49m\u001b[43m,\u001b[49m\u001b[43m \u001b[49m\u001b[43mgradient\u001b[49m\u001b[43m,\u001b[49m\u001b[43m \u001b[49m\u001b[43mretain_graph\u001b[49m\u001b[43m,\u001b[49m\u001b[43m \u001b[49m\u001b[43mcreate_graph\u001b[49m\u001b[43m,\u001b[49m\u001b[43m \u001b[49m\u001b[43minputs\u001b[49m\u001b[43m=\u001b[49m\u001b[43minputs\u001b[49m\n\u001b[32m    628\u001b[39m \u001b[43m\u001b[49m\u001b[43m)\u001b[49m\n",
      "\u001b[36mFile \u001b[39m\u001b[32m~/Documents/python/python_programming/pytorch/.venv/lib/python3.12/site-packages/torch/autograd/__init__.py:347\u001b[39m, in \u001b[36mbackward\u001b[39m\u001b[34m(tensors, grad_tensors, retain_graph, create_graph, grad_variables, inputs)\u001b[39m\n\u001b[32m    342\u001b[39m     retain_graph = create_graph\n\u001b[32m    344\u001b[39m \u001b[38;5;66;03m# The reason we repeat the same comment below is that\u001b[39;00m\n\u001b[32m    345\u001b[39m \u001b[38;5;66;03m# some Python versions print out the first line of a multi-line function\u001b[39;00m\n\u001b[32m    346\u001b[39m \u001b[38;5;66;03m# calls in the traceback and some print out the last line\u001b[39;00m\n\u001b[32m--> \u001b[39m\u001b[32m347\u001b[39m \u001b[43m_engine_run_backward\u001b[49m\u001b[43m(\u001b[49m\n\u001b[32m    348\u001b[39m \u001b[43m    \u001b[49m\u001b[43mtensors\u001b[49m\u001b[43m,\u001b[49m\n\u001b[32m    349\u001b[39m \u001b[43m    \u001b[49m\u001b[43mgrad_tensors_\u001b[49m\u001b[43m,\u001b[49m\n\u001b[32m    350\u001b[39m \u001b[43m    \u001b[49m\u001b[43mretain_graph\u001b[49m\u001b[43m,\u001b[49m\n\u001b[32m    351\u001b[39m \u001b[43m    \u001b[49m\u001b[43mcreate_graph\u001b[49m\u001b[43m,\u001b[49m\n\u001b[32m    352\u001b[39m \u001b[43m    \u001b[49m\u001b[43minputs\u001b[49m\u001b[43m,\u001b[49m\n\u001b[32m    353\u001b[39m \u001b[43m    \u001b[49m\u001b[43mallow_unreachable\u001b[49m\u001b[43m=\u001b[49m\u001b[38;5;28;43;01mTrue\u001b[39;49;00m\u001b[43m,\u001b[49m\n\u001b[32m    354\u001b[39m \u001b[43m    \u001b[49m\u001b[43maccumulate_grad\u001b[49m\u001b[43m=\u001b[49m\u001b[38;5;28;43;01mTrue\u001b[39;49;00m\u001b[43m,\u001b[49m\n\u001b[32m    355\u001b[39m \u001b[43m\u001b[49m\u001b[43m)\u001b[49m\n",
      "\u001b[36mFile \u001b[39m\u001b[32m~/Documents/python/python_programming/pytorch/.venv/lib/python3.12/site-packages/torch/autograd/graph.py:823\u001b[39m, in \u001b[36m_engine_run_backward\u001b[39m\u001b[34m(t_outputs, *args, **kwargs)\u001b[39m\n\u001b[32m    821\u001b[39m     unregister_hooks = _register_logging_hooks_on_whole_graph(t_outputs)\n\u001b[32m    822\u001b[39m \u001b[38;5;28;01mtry\u001b[39;00m:\n\u001b[32m--> \u001b[39m\u001b[32m823\u001b[39m     \u001b[38;5;28;01mreturn\u001b[39;00m \u001b[43mVariable\u001b[49m\u001b[43m.\u001b[49m\u001b[43m_execution_engine\u001b[49m\u001b[43m.\u001b[49m\u001b[43mrun_backward\u001b[49m\u001b[43m(\u001b[49m\u001b[43m  \u001b[49m\u001b[38;5;66;43;03m# Calls into the C++ engine to run the backward pass\u001b[39;49;00m\n\u001b[32m    824\u001b[39m \u001b[43m        \u001b[49m\u001b[43mt_outputs\u001b[49m\u001b[43m,\u001b[49m\u001b[43m \u001b[49m\u001b[43m*\u001b[49m\u001b[43margs\u001b[49m\u001b[43m,\u001b[49m\u001b[43m \u001b[49m\u001b[43m*\u001b[49m\u001b[43m*\u001b[49m\u001b[43mkwargs\u001b[49m\n\u001b[32m    825\u001b[39m \u001b[43m    \u001b[49m\u001b[43m)\u001b[49m  \u001b[38;5;66;03m# Calls into the C++ engine to run the backward pass\u001b[39;00m\n\u001b[32m    826\u001b[39m \u001b[38;5;28;01mfinally\u001b[39;00m:\n\u001b[32m    827\u001b[39m     \u001b[38;5;28;01mif\u001b[39;00m attach_logging_hooks:\n",
      "\u001b[31mKeyboardInterrupt\u001b[39m: "
     ]
    }
   ],
   "source": [
    "for epoch in range(2):  # loop over the dataset multiple times (lặp qua toàn bộ bộ dữ liệu nhiều lần)\n",
    "    \n",
    "    running_loss = 0.0  # khởi tạo giá trị running_loss để lưu trữ tổng lỗi trong mỗi epoch\n",
    "    for i, data in enumerate(trainloader, 0):  # duyệt qua bộ dữ liệu huấn luyện theo mini-batches\n",
    "        # get the inputs; data is a list of [inputs, labels] (lấy dữ liệu đầu vào và nhãn)\n",
    "        inputs, labels = data\n",
    "\n",
    "        # zero the parameter gradients (đặt lại gradient của các tham số về 0)\n",
    "        optimizer.zero_grad()\n",
    "\n",
    "        # forward + backward + optimize (quá trình tính toán forward, tính toán gradient (backward) và tối ưu hóa tham số)\n",
    "        outputs = net(inputs)  # tính toán kết quả dự đoán từ mô hình\n",
    "        loss = criterion(outputs, labels)  # tính toán độ lỗi (loss) giữa kết quả dự đoán và nhãn thực tế\n",
    "        loss.backward()  # tính toán gradient (đạo hàm) của loss theo các tham số mô hình\n",
    "        optimizer.step()  # cập nhật các tham số mô hình dựa trên gradient tính được\n",
    "\n",
    "        # print statistics (in các thống kê)\n",
    "        running_loss += loss.item()  # cộng dồn giá trị lỗi vào running_loss\n",
    "        if i % 2000 == 1999:    # print every 2000 mini-batches (in ra mỗi 2000 mini-batch)\n",
    "            print(f'[{epoch + 1}, {i + 1:5d}] loss: {running_loss / 2000:.3f}')  # in giá trị lỗi trung bình trong 2000 mini-batches\n",
    "            running_loss = 0.0  # đặt lại running_loss về 0 để tính lại cho batch tiếp theo\n",
    "\n",
    "print('Finished Training')  # khi hoàn thành việc huấn luyện, in thông báo kết thúc"
   ]
  },
  {
   "cell_type": "code",
   "execution_count": 18,
   "metadata": {},
   "outputs": [],
   "source": [
    "# save models\n",
    "PATH = './cifar_net.pth'\n",
    "torch.save(net.state_dict(), PATH)"
   ]
  },
  {
   "cell_type": "markdown",
   "metadata": {},
   "source": [
    "`5`. `Kiểm tra mạng trên test dataset`\n",
    "\n",
    "Ta cần phải kiểm tra để xem mạng đã học được điều gì bằng cách dự đoán nhãn lớp mà mạng neural đưa ra và kiểm tra nó so với giá trị thực tế. Nếu dự đoán là đúng, chúng tôi sẽ thêm mẫu vào dánh sách các dự đoán đúng \n"
   ]
  },
  {
   "cell_type": "code",
   "execution_count": 26,
   "metadata": {},
   "outputs": [
    {
     "data": {
      "image/png": "[encoded data removed]",
      "text/plain": [
       "<Figure size 640x480 with 1 Axes>"
      ]
     },
     "metadata": {},
     "output_type": "display_data"
    },
    {
     "name": "stdout",
     "output_type": "stream",
     "text": [
      "GroundTruth:  cat   ship  ship  plane\n"
     ]
    }
   ],
   "source": [
    "dataiter = iter(testloader) # Lấy một mini-batch từ testloader\n",
    "images, labels = next(dataiter) \n",
    "\n",
    "# Hiển thị ảnh trong mini-bathc dạng lưới\n",
    "imshow(torchvision.utils.make_grid(images))\n",
    "print('GroundTruth: ', ' '.join(f'{classes[labels[j]]:5s}' for j in range(4)))"
   ]
  },
  {
   "cell_type": "markdown",
   "metadata": {},
   "source": [
    "Việc tải lại trong cùng ipynb không cần thiết nhưng nếu sử dụng ở nơi khác thì cần phải load models."
   ]
  },
  {
   "cell_type": "code",
   "execution_count": null,
   "metadata": {},
   "outputs": [],
   "source": [
    "# net = Net()\n",
    "# net.load_state_dict(torch.load(PATH, weights_only=True))"
   ]
  },
  {
   "cell_type": "code",
   "execution_count": 23,
   "metadata": {},
   "outputs": [],
   "source": [
    "outputs = net(images)"
   ]
  },
  {
   "cell_type": "markdown",
   "metadata": {},
   "source": [
    "Đầu ra là xác suất cho 10 lớp. Xác suất một lớp càng cao thì mạng càng nghĩ rằng hình ảnh thuộc về lớp đó\n",
    "\n",
    "=> Lấy xác suất cao nhất"
   ]
  },
  {
   "cell_type": "code",
   "execution_count": 25,
   "metadata": {},
   "outputs": [
    {
     "name": "stdout",
     "output_type": "stream",
     "text": [
      "Predicted:  cat   ship  ship  plane\n"
     ]
    }
   ],
   "source": [
    "# Tìm chỉ số của xác suất cao nhất trong mỗi ảnh (lớp dự đoán)\n",
    "_, predicted = torch.max(outputs, 1)\n",
    "\n",
    "# In ra lớp dự đoán của 4 ảnh đầu tiên trong mini-batch\n",
    "print('Predicted: ', ' '.join(f'{classes[predicted[j]]:5s}' for j in range(4)))\n"
   ]
  },
  {
   "cell_type": "markdown",
   "metadata": {},
   "source": [
    "Sau khi test xong thì ta sẽ đưa ra đánh giá để nhận được accuracy của models"
   ]
  },
  {
   "cell_type": "code",
   "execution_count": 27,
   "metadata": {},
   "outputs": [
    {
     "name": "stdout",
     "output_type": "stream",
     "text": [
      "Accuracy for class: plane is 55.5 %\n",
      "Accuracy for class: car   is 71.8 %\n",
      "Accuracy for class: bird  is 55.6 %\n",
      "Accuracy for class: cat   is 51.2 %\n",
      "Accuracy for class: deer  is 56.0 %\n",
      "Accuracy for class: dog   is 39.7 %\n",
      "Accuracy for class: frog  is 69.4 %\n",
      "Accuracy for class: horse is 70.4 %\n",
      "Accuracy for class: ship  is 74.7 %\n",
      "Accuracy for class: truck is 75.8 %\n"
     ]
    }
   ],
   "source": [
    "# Khởi tạo từ điển để đếm số lượng dự đoán đúng và tổng số dự đoán cho mỗi lớp\n",
    "correct_pred = {classname: 0 for classname in classes}  # Số dự đoán đúng cho mỗi lớp\n",
    "total_pred = {classname: 0 for classname in classes}    # Tổng số dự đoán cho mỗi lớp\n",
    "\n",
    "# Không cần tính toán gradient (chỉ kiểm tra dự đoán)\n",
    "with torch.no_grad():\n",
    "    # Duyệt qua từng batch trong testloader\n",
    "    for data in testloader:\n",
    "        images, labels = data  # Lấy ảnh và nhãn từ batch\n",
    "        outputs = net(images)  # Tính toán đầu ra của mạng nơ-ron\n",
    "        _, predictions = torch.max(outputs, 1)  # Lấy chỉ số lớp dự đoán có năng lượng cao nhất (max)\n",
    "        \n",
    "        # Đếm số dự đoán đúng cho mỗi lớp\n",
    "        for label, prediction in zip(labels, predictions):\n",
    "            if label == prediction:  # Nếu nhãn thực tế và nhãn dự đoán giống nhau\n",
    "                correct_pred[classes[label]] += 1  # Tăng số dự đoán đúng cho lớp\n",
    "            total_pred[classes[label]] += 1  # Tăng tổng số dự đoán cho lớp\n",
    "\n",
    "# In độ chính xác của mỗi lớp\n",
    "for classname, correct_count in correct_pred.items():\n",
    "    accuracy = 100 * float(correct_count) / total_pred[classname]  # Tính độ chính xác (%) cho lớp\n",
    "    print(f'Accuracy for class: {classname:5s} is {accuracy:.1f} %')  # In ra độ chính xác cho từng lớp"
   ]
  },
  {
   "cell_type": "markdown",
   "metadata": {},
   "source": [
    "`Training in GPU`"
   ]
  },
  {
   "cell_type": "markdown",
   "metadata": {},
   "source": [
    "Tương tự như cách chuyển tensor sang GPU, ta cũng có thể chuyển mạng neural sang GPU"
   ]
  },
  {
   "cell_type": "code",
   "execution_count": 28,
   "metadata": {},
   "outputs": [
    {
     "name": "stdout",
     "output_type": "stream",
     "text": [
      "cuda:0\n"
     ]
    }
   ],
   "source": [
    "# định nghĩa thiết bị\n",
    "device = torch.device('cuda:0' if torch.cuda.is_available() else 'cpu')\n",
    "print(device)"
   ]
  },
  {
   "cell_type": "markdown",
   "metadata": {},
   "source": [
    "Khi ta dùng `.to(device)` - phương thức này sẽ đệ quy duyệt qua và chuyển đổi các tham số của mô hình thành tensor CUDA"
   ]
  },
  {
   "cell_type": "code",
   "execution_count": 29,
   "metadata": {},
   "outputs": [],
   "source": [
    "inputs, labels = data[0].to(device), data[1].to(device)"
   ]
  },
  {
   "cell_type": "markdown",
   "metadata": {},
   "source": [
    "`Exercise`: Hãy thử tăng chiều rộng mạng của bạn (đối số 2 của đối số đầu tiên nn.Conv2dvà đối số 1 của đối số thứ hai nn.Conv2d– chúng cần phải có cùng số), xem tốc độ bạn nhận được là bao nhiêu."
   ]
  }
 ],
 "metadata": {
  "kernelspec": {
   "display_name": ".venv",
   "language": "python",
   "name": "python3"
  },
  "language_info": {
   "codemirror_mode": {
    "name": "ipython",
    "version": 3
   },
   "file_extension": ".py",
   "mimetype": "text/x-python",
   "name": "python",
   "nbconvert_exporter": "python",
   "pygments_lexer": "ipython3",
   "version": "3.12.3"
  }
 },
 "nbformat": 4,
 "nbformat_minor": 2
}
