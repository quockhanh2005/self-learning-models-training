{
 "cells": [
  {
   "cell_type": "markdown",
   "metadata": {},
   "source": [
    "<h1 style=\"font-size: 36px; color: #FFD700\">3 - Neural Networks</h1>"
   ]
  },
  {
   "cell_type": "markdown",
   "metadata": {},
   "source": [
    "Neural networks có thể xây dựng bằng cách sử dụng torch.nn"
   ]
  },
  {
   "cell_type": "markdown",
   "metadata": {},
   "source": [
    "nn: Định nghĩa các lớp mạng (models), vd: nn.Linear, nn.Conv2d, ...\n",
    "\n",
    "autograd: Tự động tính gradient, xây dựng compulational graph tự động trong lúc thực thi\n",
    "\n",
    "=> Mối quan hệ: nn định nghĩa kiến trúc mô hình, autograd xử lý quá trình Backward, tính đạo hàm và lưu dúng cho việc cập nhật.\n",
    "\n",
    "    => nn phụ thuộc autograd để có thể trainable"
   ]
  },
  {
   "cell_type": "markdown",
   "metadata": {},
   "source": [
    "Một nn.Module sẽ chứa các lớp kiến trúc và một phương thức forward(input) trả về output"
   ]
  },
  {
   "cell_type": "markdown",
   "metadata": {},
   "source": [
    "Ví dụ:\n",
    "\n",
    "<img src=\"https://pytorch.org/tutorials/_images/mnist.png\" alt=\"Ảnh online\" style=\"background-color:white; padding:10px;\">"
   ]
  },
  {
   "cell_type": "markdown",
   "metadata": {},
   "source": [
    "Giải thích từng thuật ngữ & Vai trò cụ thể:\n",
    "- `Input` - ảnh đưa vào mạng, ở đây là ảnh xám kích thức 32x32 (vd chữ viết tay)\n",
    "- `Convolution layer` (C1, C3) - Lớp tích chập \n",
    "    - Tác vụ: \n",
    "        - Trích xuất đặc trưng(feature) từ ảnh hoặc feature maps trước đó \n",
    "        - Mỗi filter (kernel) học cách nhận biết các đặc điểm như cạnh, góc, nét cong,...\n",
    "        - Tạo ra feature maps – là biểu diễn không gian các đặc trưng tìm được\n",
    "    Trong LeNet:\n",
    "        - C1: Có 6 filters → 6 feature maps 28x28\n",
    "        - C3: Có 16 filters → 16 feature maps 10x10\n",
    "- `Subsampling/ Pooling` - Lớp gộp/ giảm mẫu\n",
    "    - Tác vụ:\n",
    "        - Giảm kích thước không gian của feature maps (ví dụ từ 28x28 → 14x14)\n",
    "        - Giúp mạng học nhanh hơn và giảm overfitting\n",
    "        - MaxPooling thường được dùng: chọn giá trị lớn nhất trong mỗi vùng nhỏ\n",
    "    - Trong LeNet:\n",
    "        - S2: 6 feature maps 14x14\n",
    "        - S4: 16 feature maps 5x5\n",
    "- `Fully Connected Layers` - Lớp kết nối đầy đủ:\n",
    "    - Tác vụ:\n",
    "        - Kết nối toàn bộ các giá trị đặc trưng trước đó với tất cả các neurons tiếp theo\n",
    "        - Thực hiện tổng hợp thông tin toàn cục để chuẩn bị phân loại\n",
    "        - Giống như \"não\" của mạng quyết định ảnh thuộc lớp nào\n",
    "    - Trong LeNet:\n",
    "        - F5: 120 neurons\n",
    "        - F6: 84 neurons\n",
    "- `Output layer` (10 neural) - Lớp output đầu ra:\n",
    "    - Tác vụ: \n",
    "        - Mỗi neuron tương ứng với một lớp phân loại (ví dụ 0 đến 9 nếu là nhận diện chữ số)\n",
    "        - Sau khi áp dụng Softmax, cho ra xác suất cho từng lớp\n",
    "        - Lớp nào có xác suất cao nhất → là kết quả dự đoán\n",
    " - `Feature Maps` - Bản đồ đặc trưng\n",
    "    - Tác vụ:\n",
    "        - Là kết quả của mỗi filter khi quét qua ảnh hoặc feature map trước đó\n",
    "        - Cho biết tại vị trí nào trong ảnh đang có đặc trưng cần tìm\n",
    "- `Gaussian connections` - Kết nối Gaussian\n",
    "    - Tác vụ: Trong LeNet gốc, không phải neuron nào trong lớp fully connected cũng kết nối với tất cả đầu vào. Chỉ kết nối theo mẫu “Gaussian” để tiết kiệm tài nguyên thời đó\n",
    "    - Ngày nay, ta thường dùng full connection thay vì kiểu kết nối này\n"
   ]
  },
  {
   "cell_type": "code",
   "execution_count": 1,
   "metadata": {},
   "outputs": [],
   "source": [
    "import torch\n",
    "import torch.nn as nn \n",
    "import torch.nn.functional as F"
   ]
  },
  {
   "cell_type": "code",
   "execution_count": 2,
   "metadata": {},
   "outputs": [],
   "source": [
    "class Net(nn.Module):\n",
    "    def __init__(self):\n",
    "        super(Net, self).__init__() # 1 input channel, 6 ouput channel, nhân tích chập vuông 5x5\n",
    "        self.conv1 = nn.Conv2d(1, 6, 5)\n",
    "        self.conv2 = nn.Conv2d(6, 16, 5)\n",
    "        # Một phép toán biến đổi: y = Wx + b\n",
    "        self.fc1 = nn.Linear(16*5*5, 120) # 5*5 là chiều ảnh 5 pixel weight, 5 pixel height\n",
    "        self.fc2 = nn.Linear(120, 84)\n",
    "        self.fc3 = nn.Linear(84, 10)\n",
    "        \n",
    "    def forward(self, input):\n",
    "        # Lớp C1: 1 image input channel, 6 output channel\n",
    "        # Conv 5x5 sử dụng hàm kích hoạt ReLU\n",
    "        # Tensor output có size(N, 6, 28, 28), N là batch size\n",
    "        c1 = F.relu(self.conv1(input))\n",
    "        \n",
    "        # Lớp S2: Lấy mẫu có grid là 2x2, đây hoàn toàn là hàm chức năng\n",
    "        # Lớp này không có bất kỳ tham số nào, output tensor size(N, 6, 14, 14)\n",
    "        s2 = F.max_pool2d(c1, (2, 2))\n",
    "        \n",
    "        # Lớp C3: 6 input channel, 16 output channels\n",
    "        # 5x5 conv, dùng hàm kích hoạt ReLU \n",
    "        # Tensor output (N, 16, 10, 10)\n",
    "        c3 = F.relu(self.conv2(s2))\n",
    "        \n",
    "        # Lớp S4: Tương tự S2, tensor output (N, 16, 5, 5)\n",
    "        s4 = F.max_pool2d(c3, 2)\n",
    "        \n",
    "        # flatten: hàm thuần chức năng, chuyển matrix -> vector \n",
    "        # output tensor: (N, 400)\n",
    "        s4 = torch.flatten(s4, 1)\n",
    "        \n",
    "        # Lớp F5:tensor input (N, 400), tensor output (N, 120), sdung hàm ReLU\n",
    "        f5 = F.relu(self.fc1(s4))\n",
    "        \n",
    "        # Lớp F6: tensor input (N, 120), tensor output (N, 84), sdung hàm ReLu\n",
    "        f6 = F.relu(self.fc2(f5))\n",
    "        \n",
    "        # Lớp gaussian output: (N, 84) Tensor input, and tensor output(N, 10)\n",
    "        output = self.fc3(f6)\n",
    "        return output"
   ]
  },
  {
   "cell_type": "markdown",
   "metadata": {},
   "source": [
    "`max_pool` - làm giảm kích thước của dữ liệu đầu vào trong khi giữ lại các đặc trưng quan trọng. Giúp `giảm chi phí` và giảm `overfitting`\n",
    "\n",
    "Cách hoạt động:\n",
    "- Chia dữ liệu thành các cửa sổ nhỏ (windows): Mỗi cửa sổ là một khu vực con của dữ liệu đầu vào, ví dụ, một vùng 2x2 hoặc 3x3 của ảnh\n",
    "- Chọn giá trị lớn nhất trong mỗi cửa sổ: MaxPooling chọn giá trị lớn nhất trong mỗi cửa sổ và giữ lại nó, trong khi loại bỏ các giá trị còn lại\n",
    "- Lặp lại quá trình trên toàn bộ dữ liệu đầu vào: Điều này sẽ giúp giảm kích thước của dữ liệu (ví dụ, giảm chiều rộng và chiều cao của ảnh)"
   ]
  },
  {
   "cell_type": "code",
   "execution_count": 3,
   "metadata": {},
   "outputs": [
    {
     "name": "stdout",
     "output_type": "stream",
     "text": [
      "Net(\n",
      "  (conv1): Conv2d(1, 6, kernel_size=(5, 5), stride=(1, 1))\n",
      "  (conv2): Conv2d(6, 16, kernel_size=(5, 5), stride=(1, 1))\n",
      "  (fc1): Linear(in_features=400, out_features=120, bias=True)\n",
      "  (fc2): Linear(in_features=120, out_features=84, bias=True)\n",
      "  (fc3): Linear(in_features=84, out_features=10, bias=True)\n",
      ")\n"
     ]
    }
   ],
   "source": [
    "net = Net()\n",
    "print(net)"
   ]
  },
  {
   "cell_type": "markdown",
   "metadata": {},
   "source": [
    "Ta cần định nghĩa hàm forward, backward - nơi tính gradient sẽ tự động được định nghĩa bằng autograd. Ta có thể sdung bất kỳ phép toán Tensor nào trong hàm forward\n",
    "\n",
    "Các tham số có thể được học của model đc trả về bởi net.parameters()"
   ]
  },
  {
   "cell_type": "code",
   "execution_count": 4,
   "metadata": {},
   "outputs": [
    {
     "name": "stdout",
     "output_type": "stream",
     "text": [
      "10\n",
      "torch.Size([6, 1, 5, 5])\n"
     ]
    }
   ],
   "source": [
    "params = list(net.parameters())\n",
    "print(len(params))\n",
    "print(params[0].size()) #conv1 weight"
   ]
  },
  {
   "cell_type": "markdown",
   "metadata": {},
   "source": [
    "Lưu ý: kích thước đầu vào dự kiến ​​của lưới này (LeNet) là 32x32. Để sử dụng lưới này trên tập dữ liệu MNIST, ta phải thay đổi kích thước hình ảnh từ tập dữ liệu thành 32x32."
   ]
  },
  {
   "cell_type": "code",
   "execution_count": 5,
   "metadata": {},
   "outputs": [
    {
     "name": "stdout",
     "output_type": "stream",
     "text": [
      "tensor([[ 0.0231, -0.0121, -0.1361, -0.1448, -0.1607, -0.0162,  0.0655, -0.0951,\n",
      "         -0.1019, -0.0271]], grad_fn=<AddmmBackward0>)\n"
     ]
    }
   ],
   "source": [
    "input = torch.randn(1, 1, 32, 32)\n",
    "out = net(input)\n",
    "print(out)"
   ]
  },
  {
   "cell_type": "markdown",
   "metadata": {},
   "source": [
    "Đặt các tham số và backprop về 0 và thực hiện gradient ngẫu nhiên:\n",
    "- Mục đích đặt lại để các tham số không bị cộng dồn qua mỗi lần gọi hàm backward()."
   ]
  },
  {
   "cell_type": "code",
   "execution_count": 6,
   "metadata": {},
   "outputs": [],
   "source": [
    "net.zero_grad() # đặt lại gradient bằng 0\n",
    "out.backward(torch.randn(1, 10))"
   ]
  },
  {
   "cell_type": "markdown",
   "metadata": {},
   "source": [
    "- vì output không phải scalar nên khi thực hiện backward phải điền vào một một tensor ngẫu nhiên có shape giống với output (giá trị đc lấy mẫu từ pp chuẩn Gaussian với tb=0 và đlc=1) nó có tác dụng tính gradient lần đầu tiên trước trong quá trình backward."
   ]
  },
  {
   "cell_type": "markdown",
   "metadata": {},
   "source": [
    "Ghi chú:\n",
    "- torch.nn được thiết kế để xử lý dữ liệu theo batch\n",
    "- nếu ta chỉ có 1 sample, sử dụng input.unsqueeze(0) để kích hoạt batch fake"
   ]
  },
  {
   "cell_type": "code",
   "execution_count": 7,
   "metadata": {},
   "outputs": [],
   "source": [
    "# input = torch.rand(3, 224, 224)  # 1 ảnh RGB\n",
    "# batch_input = input.unsqueeze(0)  # Thêm chiều batch -> [1, 3, 224, 224]\n",
    "# output = model(batch_input)       # Chạy được!"
   ]
  },
  {
   "cell_type": "markdown",
   "metadata": {},
   "source": [
    "- số 0 đối số của `unsqueeze()` là vị trí của dim mới thêm vào batch. \n",
    "- unsqueeze(dim)\n",
    "\n",
    "    - dim=0: Thêm chiều batch ở đầu (ví dụ: [C, H, W] → [1, C, H, W]).\n",
    "\n",
    "    - dim=1: Thêm chiều ở vị trí thứ 1 (ví dụ: [C, H, W] → [C, 1, H, W]).\n",
    "\n",
    "    - dim=-1: Thêm chiều ở cuối (ví dụ: [C, H, W] → [C, H, W, 1])."
   ]
  },
  {
   "cell_type": "markdown",
   "metadata": {},
   "source": [
    "`torch.Tensor` - Một mảng đa chiều trong PyTorch, hỗ trợ tính toán tự động (autograd) như phép `backward()`. Nó cũng lưu giữ gradient (độ dốc) liên quan đến tensor.\n",
    "\n",
    "`nn.Module` - Lớp cơ sở để xây dựng các mô-đun mạng nơ-ron. Cung cấp cách thuận tiện để đóng gói các tham số, với các tiện ích để chuyển chúng lên GPU, lưu/tải mô hình, v.v.\n",
    "\n",
    "`nn.Parameter` - Một loại Tensor đặc biệt, tự động được đăng ký là tham số của `Module` khi được gán làm thuộc tính của một `Module`.\n",
    "\n",
    "`autograd.Function` - Định nghĩa các phép toán tự động (forward/backward). Mỗi phép toán trên Tensor tạo ra ít nhất một nút Function, kết nối với các hàm đã tạo ra Tensor đó và ghi lại lịch sử tính toán."
   ]
  },
  {
   "cell_type": "markdown",
   "metadata": {},
   "source": [
    "`LOSS FUNCTION`"
   ]
  },
  {
   "cell_type": "markdown",
   "metadata": {},
   "source": [
    "`Loss function` lấy cặp (output, target) và tính toán giá trị ước tính từ khoảng cách từ output đến target"
   ]
  },
  {
   "cell_type": "code",
   "execution_count": 8,
   "metadata": {},
   "outputs": [
    {
     "name": "stdout",
     "output_type": "stream",
     "text": [
      "tensor(0.8947, grad_fn=<MseLossBackward0>)\n"
     ]
    }
   ],
   "source": [
    "output = net(input)\n",
    "target = torch.randn(10)\n",
    "target = target.view(1, -1) # giống reshape\n",
    "\n",
    "criterion = nn.MSELoss()\n",
    "\n",
    "loss = criterion(output, target)\n",
    "print(loss)"
   ]
  },
  {
   "cell_type": "markdown",
   "metadata": {},
   "source": [
    "Giải thích tham số (1, -1)\n",
    "- 1: Đặt kích thước chiều đầu tiên (batch size) = 1\n",
    "→ Tạo 1 batch duy nhất chứa mẫu dữ liệu.\n",
    "\n",
    "- -1: PyTorch tự động tính toán chiều này dựa trên tổng số phần tử tensor.\n",
    "→ Công thức: `-1 = total_elements / other_dims`"
   ]
  },
  {
   "attachments": {
    "image.png": {
     "image/png": "[encoded data removed]"
    }
   },
   "cell_type": "markdown",
   "metadata": {},
   "source": [
    "Nếu ta theo loss hướng ngược lại, sử dụng thuộc tính `.grad_fn` của nó, ta sẽ thấy biểu đồ tính toán trông như sau:\n",
    "\n",
    "![image.png](attachment:image.png)"
   ]
  },
  {
   "cell_type": "markdown",
   "metadata": {},
   "source": [
    "Khi gọi `loss.backward()`, PyTorch sẽ tự động tính toán gradient (đạo hàm) cho tất cả các tham số trong mạng nơ-ron (các Tensor có `requires_grad=True`) và lưu giá trị gradient vào thuộc tính `.grad` của chúng."
   ]
  },
  {
   "cell_type": "code",
   "execution_count": 9,
   "metadata": {},
   "outputs": [
    {
     "name": "stdout",
     "output_type": "stream",
     "text": [
      "<MseLossBackward0 object at 0x763714734760>\n",
      "<AddmmBackward0 object at 0x763714734760>\n",
      "<AccumulateGrad object at 0x76366c5dad40>\n"
     ]
    }
   ],
   "source": [
    "print(loss.grad_fn)  # MSELoss\n",
    "print(loss.grad_fn.next_functions[0][0])  # Linear\n",
    "print(loss.grad_fn.next_functions[0][0].next_functions[0][0])  # ReLU"
   ]
  },
  {
   "cell_type": "markdown",
   "metadata": {},
   "source": [
    "`.next_functions` sẽ giúp ta đến các lớp (bước) trước trong đồ thị tính toán `computational graph`\n",
    "\n",
    "=> loss.grad_fn sẽ đưa ta đến node cuối cùng (`backward function`) trước output. Khi ta gọi `.next_functions` nó sẽ đưa ta về bước trước đó là linear và tiếp tục là relu và nữa thì là linear"
   ]
  },
  {
   "cell_type": "markdown",
   "metadata": {},
   "source": [
    "`BACKPROP` "
   ]
  },
  {
   "cell_type": "markdown",
   "metadata": {},
   "source": [
    "`Backprop` - thuật toán lan truyền ngược để cập nhật các trọng số (weights) trong mạng neural trong khi train.\n",
    "\n",
    "Để `lan truyền ngược` thì ta chỉ cần sử dụng `loss.backward()`. \n",
    "- `Note`: ta phải xóa các `gradient` hiện có nếu không gradient sẽ đuợc tích lũy vào gradient hiện có."
   ]
  },
  {
   "cell_type": "code",
   "execution_count": 11,
   "metadata": {},
   "outputs": [
    {
     "name": "stdout",
     "output_type": "stream",
     "text": [
      "conv1.bias.grad before backward\n",
      "None\n",
      "conv1.bias.grad after backward\n",
      "tensor([-0.0022, -0.0037,  0.0091, -0.0083,  0.0075, -0.0028])\n"
     ]
    }
   ],
   "source": [
    "# Ta xét một vd gradient của conv1 trước/ sau khi backward\n",
    "net.zero_grad() # Xóa các gradient\n",
    "\n",
    "print('conv1.bias.grad before backward')\n",
    "print(net.conv1.bias.grad)\n",
    "\n",
    "loss.backward() # Hàm sẽ tính các gradient của tham số dựa trên loss_func\n",
    "\n",
    "print('conv1.bias.grad after backward')\n",
    "print(net.conv1.bias.grad)"
   ]
  },
  {
   "cell_type": "markdown",
   "metadata": {},
   "source": [
    "`Giải thích chi tiết từng bước thực hiện`:\n",
    "\n",
    "`Trước khi gọi backward` - Vì ta chưa tính gradient => `net.conv1.bias.grad` là None (Do Pytorch không tự động tính gradient trừ khi ta yêu cầu qua `backward()`)\n",
    "- `net.zero_grad()`: được gọi để reset các giá trị gradient => trành cộng dồn các gradient (cũ + mới)\n",
    "\n",
    "`Khi gọi backward` - Pytorch sẽ tính gradient của loss với tất cả các tham số của models (weight, bias của tất cả các lớn). Quá trình này đi ngược từ loss về các lớp trước đó trong mạng và tính toán gradient cho mỗi tham số theo `chain-rule`\n",
    "- gradient sẽ được lưu vào các `thuộc tính grad` của các tham số tương ứng với models\n",
    "- Sau khi `backward()` được ta sẽ nhìn thấy các giá trị gradient trong `conv1.bias.grad` - nơi chứa gradient bias của lớp conv1 (muốn coi lớp nào thì gọi lớp đó)\n",
    "\n",
    "`Sau khi gọi backward` - sau khi `loss.backward()` đuợc gọi thì các gradient cho các tham số của lớp conv1 sẽ được sẽ được tính toán và lưu trong conv1.bias.grad\n",
    "- Khi ta gọi để hiển thị thì ta nhận được giá trị thực tế của gradient"
   ]
  },
  {
   "cell_type": "markdown",
   "metadata": {},
   "source": [
    "`UPDATE WEIGHTS` - Quy tắc cập nhật đơn giản nhất được sử dụng trong thực tế là SGD (`Stochastic Gradient Descent`)\n",
    "\n",
    "`weight = weight - learning_rate * gradient`"
   ]
  },
  {
   "cell_type": "code",
   "execution_count": 12,
   "metadata": {},
   "outputs": [],
   "source": [
    "learning_rate = 0.01\n",
    "for f in net.parameters():\n",
    "    f.data.sub_(f.grad.data * learning_rate)"
   ]
  },
  {
   "cell_type": "markdown",
   "metadata": {},
   "source": [
    "`GIẢI THÍCH`\n",
    "\n",
    "`learning_rate = 0.01` - quyết định mức độ thay đổi của các tham số trong mỗi bước huấn luyện,`lr = 0.01` có nghĩa mỗi lần cập nhật trọng số thì gradient sẽ nhân với lr để điều chỉnh trọng số một cách chậm hơn\n",
    "\n",
    "`for f in net.parameters():` \n",
    "- net.parameters() trả về tất cả các tham số của mô hình trong mạng `net`\n",
    "- `f` là từng tham số trọng mạng\n",
    "\n",
    "=> Duyệt qua từng tham số trong mô hình để thực hiện việc `update weight`\n",
    "\n",
    "`f.data.sub_(f.grad.data * learning_rate)` - là nơi thực hiện việc `update weight`\n",
    "- `f.data`: đây là giá trị thực tế của tham số f. `.data` là một cách để truy cập giá trị thực của tensor mà không yêu cầu tính toán gradient \n",
    "- `f.grad.data`: đây là gradient của tham số f. Gradient cho biết mức độ thay đổi cần thiết của tham số f để giảm thiểu loss. Gradient này đã được tính toán khi gọi loss.backward()\n",
    "- `.sub_()`: sẽ trừ đi giá trị của biểu thức bên phải từ giá trị hiện tại của f.data vì sub_() là phương thức in_place, nó sẽ cập nhật giá trị của f.data ngay lập tức"
   ]
  },
  {
   "cell_type": "markdown",
   "metadata": {},
   "source": [
    "*`in-place` - là phương thức mà khi ta thao tác trực tiếp trên dữ liệu đầu vào mà `không cần thêm bộ nhớ phụ đáng kể`. Thay vì tạo ra bản sao của dữ liệu mới thì nó `thay đổi trực tiếp dữ liệu gốc`"
   ]
  },
  {
   "cell_type": "markdown",
   "metadata": {},
   "source": [
    "Khi ta tối ưu mạng neural thì không chỉ có cách `update weight` đơn giản như trên mà là các quy tắc cập nhật khác nhau: `SGD`, `Nesterov-SGD`, `Adam`, `RMSProp`, ...\n",
    "\n",
    "=> Pytorch có package để triển khai các phương pháp này."
   ]
  },
  {
   "cell_type": "code",
   "execution_count": null,
   "metadata": {},
   "outputs": [],
   "source": [
    "import torch.optim as optim\n",
    "\n",
    "optimizer = optim.SGD(net.parameters(), lr=0.01)\n",
    "\n",
    "optimizer.zero_grad() \n",
    "output = net(input)\n",
    "loss = criterion(output, target)\n",
    "loss.backward()\n",
    "optimizer.step() "
   ]
  },
  {
   "cell_type": "markdown",
   "metadata": {},
   "source": [
    "`GIẢI THÍCH`\n",
    "\n",
    "`optimizer = optim.SGD(net.parameters(), lr=0.01)`\n",
    "- `optimizer`: là một đối tượng tối ưu hóa, được sử dụng để cập nhật trọng số của mô hình trong quá trình train\n",
    "- `optim.SGD`: là cách để tạo ra Stochastic Gradient Descent optimizer\n",
    "- `net.parameters()`: Đây là các tham số  của mô hình\n",
    "    - `net`: Bạn cung cấp các tham số này cho optimizer để optimizer có thể cập nhật chúng trong quá trình train\n",
    "    - `lr=0.01`: Đây là learning rate (tỷ lệ học), quyết định mức độ thay đổi của các tham số trong mỗi lần cập nhật\n",
    "\n",
    "`optimizer.zero_grad()` - Vì pytorch không tự động được xóa giữa các lần cập nhật\n",
    "\n",
    "=> ta phải gọi `.zero_grad()` để đặt lại các gradient trước khi tính toán mới => tránh cộng dồn \n",
    "\n",
    "`output = net(input)` - buớc forward để đưa ra một dự đoán từ net\n",
    "\n",
    "`loss = criterion(output, target)` - tính toán hàm loss giữa đầu ra mô hình và giá trị thực tế. Hàm này đo lường sự sai lechj giữa output và target\n",
    "\n",
    "`loss.backward()` - gọi phương thức này để tính toán các gradient của các tham số trong mô hình đối với loss. Sau khi gọi `loss.backward()' thì các gradient sẽ được tính toán tự động thông qua quá trình lan truyền ngược và lưu vào .grad của các tham số trong mô hình.\n",
    "\n",
    "`optimizer.step()` - sau các bước tính toán thì ta gọi để  `update weight` cho models. Optimizer sẽ dùng các gradient và lr đã cho để thực hiện việc cập nhật các tham số sao cho giảm thiểu loss"
   ]
  }
 ],
 "metadata": {
  "kernelspec": {
   "display_name": ".venv",
   "language": "python",
   "name": "python3"
  },
  "language_info": {
   "codemirror_mode": {
    "name": "ipython",
    "version": 3
   },
   "file_extension": ".py",
   "mimetype": "text/x-python",
   "name": "python",
   "nbconvert_exporter": "python",
   "pygments_lexer": "ipython3",
   "version": "3.12.3"
  }
 },
 "nbformat": 4,
 "nbformat_minor": 2
}
